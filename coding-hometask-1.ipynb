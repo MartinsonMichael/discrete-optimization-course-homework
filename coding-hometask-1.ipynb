{
 "cells": [
  {
   "cell_type": "markdown",
   "metadata": {},
   "source": [
    "# Задание по курсу «Дискретная оптимизация», МФТИ, весна 2017"
   ]
  },
  {
   "cell_type": "markdown",
   "metadata": {},
   "source": [
    "## Задача 1-1\n",
    "Предполагается, что функция `solve_bp_decision(weights, n_bins)` решает «распознавательный» (decision) вариант задачи bin packing. На вход ей подаётся список весов и число корзин. Функция возвращает булевский ответ на вопрос «можно ли заданные веса раскидать по не более чем `n_bins` контейнерам? Напишите содержимое функции `solve_bp_evaluation`, которая возвращает оптимальное число корзин (решает evaluation variant задачи bin packing) и затем содержимое функции `solve_bp_search`, которая возвращает список номеров корзин, которые при каком-нибудь оптимальном распределении присваиваются весам из списка `weights` (корзины нумеруются с единицы). Каждая из следующих функций должна вызывать предыдущую не более чем полиномиальное число раз."
   ]
  },
  {
   "cell_type": "code",
   "execution_count": 1,
   "metadata": {
    "collapsed": true
   },
   "outputs": [],
   "source": [
    "import itertools\n",
    "import numpy as np"
   ]
  },
  {
   "cell_type": "code",
   "execution_count": 79,
   "metadata": {
    "collapsed": false
   },
   "outputs": [],
   "source": [
    "def solve_bp_decision(weights, n_bins):\n",
    "    weights = np.array(weights)\n",
    "    for w in weights:\n",
    "        if w > 1:\n",
    "            return False\n",
    "    rng = np.arange(0, len(weights))\n",
    "    for index in itertools.permutations(rng):\n",
    "        cur_weight = weights[list(index)]\n",
    "        now_w = 0\n",
    "        bin_used = 1\n",
    "        for w in cur_weight:\n",
    "            if now_w + w <= 1:\n",
    "                now_w += w\n",
    "                continue\n",
    "            else:\n",
    "                now_w = w\n",
    "                bin_used += 1\n",
    "            if bin_used > n_bins:\n",
    "                bin_used = n_bins + 1\n",
    "                break\n",
    "        if bin_used <= n_bins:\n",
    "            return True\n",
    "    return False\n"
   ]
  },
  {
   "cell_type": "code",
   "execution_count": 80,
   "metadata": {
    "collapsed": false
   },
   "outputs": [],
   "source": [
    "def solve_bp_evaluation(weights):\n",
    "    l, r = 0, len(weights)\n",
    "    while l + 1 != r:\n",
    "        mid = (l + r) // 2\n",
    "        if solve_bp_decision(weights=weights, n_bins=mid):\n",
    "            r = mid\n",
    "        else:\n",
    "            l = mid\n",
    "    return r"
   ]
  },
  {
   "cell_type": "code",
   "execution_count": 81,
   "metadata": {
    "collapsed": false
   },
   "outputs": [],
   "source": [
    "def getNewWeights(old_weights, bins):\n",
    "    new_weights = np.zeros(bins.max() + 1, dtype=float)\n",
    "    flag = False\n",
    "    for i in range(len(old_weights)):\n",
    "        new_weights[bins[i]] += old_weights[i]\n",
    "        if new_weights[bins[i]] > 1:\n",
    "            flag = True\n",
    "    return not flag, new_weights\n",
    "\n",
    "def solve_bp_search(weights):\n",
    "    weights = np.array(weights)\n",
    "    solution = np.arange(weights.shape[0])\n",
    "    best_n_bins = solve_bp_evaluation(weights)\n",
    "    now_bin = 0\n",
    "    while True:\n",
    "        for i in range(solution.shape[0]):\n",
    "            if solution[i] <= now_bin:\n",
    "                continue\n",
    "            buffer = solution[i]    \n",
    "            solution[i] = now_bin\n",
    "            can, new_weights = getNewWeights(weights, solution)\n",
    "            if can and solve_bp_evaluation(new_weights) == best_n_bins:\n",
    "                continue\n",
    "            solution[i] = buffer\n",
    "        now_bin += 1\n",
    "        if now_bin > best_n_bins:\n",
    "            break\n",
    "    return solution + 1"
   ]
  },
  {
   "cell_type": "markdown",
   "metadata": {},
   "source": [
    "Немного протестируем"
   ]
  },
  {
   "cell_type": "code",
   "execution_count": 92,
   "metadata": {
    "collapsed": false
   },
   "outputs": [
    {
     "name": "stdout",
     "output_type": "stream",
     "text": [
      "False\n",
      "True\n",
      "\n",
      "test's for [0.6, 0.6, 0.4, 0.4] pack\n",
      "n_bins = 0  :  False\n",
      "n_bins = 1  :  False\n",
      "n_bins = 2  :  True\n",
      "n_bins = 3  :  True\n",
      "2\n",
      "pack :\n",
      "[0.6, 0.6, 0.4, 0.4]\n",
      "solution :\n",
      "[1 2 1 2]\n"
     ]
    }
   ],
   "source": [
    "print(solve_bp_decision([0.8, 0.09, 0.4, 0.7], 2))\n",
    "print(solve_bp_decision([0.8, 0.09, 0.4, 0.7], 3))\n",
    "\n",
    "pack = [0.6, 0.6, 0.4, 0.4]\n",
    "print('\\ntest\\'s for', pack, 'pack')\n",
    "for i in range(4):\n",
    "    print('n_bins =', i, ' : ', solve_bp_decision(pack, i))\n",
    "    \n",
    "print(solve_bp_evaluation(pack))\n",
    "\n",
    "print('pack :', pack, 'solution :', solve_bp_search(pack), sep='\\n')"
   ]
  }
 ],
 "metadata": {
  "kernelspec": {
   "display_name": "Python 3",
   "language": "python",
   "name": "python3"
  },
  "language_info": {
   "codemirror_mode": {
    "name": "ipython",
    "version": 3
   },
   "file_extension": ".py",
   "mimetype": "text/x-python",
   "name": "python",
   "nbconvert_exporter": "python",
   "pygments_lexer": "ipython3",
   "version": "3.6.0"
  }
 },
 "nbformat": 4,
 "nbformat_minor": 2
}
