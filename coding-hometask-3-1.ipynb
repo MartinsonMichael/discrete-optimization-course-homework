{
 "cells": [
  {
   "cell_type": "markdown",
   "metadata": {
    "deletable": true,
    "editable": true
   },
   "source": [
    "# Задание по курсу «Дискретная оптимизация», МФТИ, весна 2017"
   ]
  },
  {
   "cell_type": "markdown",
   "metadata": {
    "collapsed": true,
    "deletable": true,
    "editable": true
   },
   "source": [
    "## Задача 3-1. Задача TSP: инкрементальные алгоритмы.\n",
    "\n",
    "В этой задаче Вам предлагается сравнить алгоритмы Nearest Neighbour и Nearest Insertion в задаче Euclidean TSP.\n",
    "\n",
    "**Даны:**\n",
    "* Координаты точек плоскости, являющихся вершинами графа.\n",
    "\n",
    "**Найти:**\n",
    "* Перестановку вершин, задающих минимальный по длине гамильтонов цикл в графе.\n",
    "\n",
    "Сделайте следующее:\n",
    "* Скачайте файл [`tsp-instances.zip`](https://github.com/dainiak/discrete-optimization-course/raw/master/tsp-instances.zip) и разархивируйте из него файлы со входами задачи TSP.\n",
    "* Реализуйте функции `solve_tsp_nearest_neighbour` и `solve_tsp_nearest_insertion`.\n",
    "* Запустите функцию `run_all()`, чтобы протестировать свой код и сравнить качество решений, получаемых Nearest Neighbour и Nearest Insertion. Сильно ли они отличаются? Запишите свои качественные выводы в 1-2 предложениях в последней ячейке ipynb-файла."
   ]
  },
  {
   "cell_type": "code",
   "execution_count": 6,
   "metadata": {
    "collapsed": true
   },
   "outputs": [],
   "source": [
    "import numpy as np\n",
    "import time\n",
    "from os.path import exists\n",
    "from math import sqrt"
   ]
  },
  {
   "cell_type": "markdown",
   "metadata": {},
   "source": [
    "Будем использовать numpy, т.к. он гораздо быстрее"
   ]
  },
  {
   "cell_type": "code",
   "execution_count": 7,
   "metadata": {
    "collapsed": true,
    "deletable": true,
    "editable": true
   },
   "outputs": [],
   "source": [
    "def read_tsp_instance(filename):\n",
    "    with open(filename, 'r') as file:\n",
    "        coordinates = []\n",
    "        for line in file:\n",
    "            line = line.strip().lower()\n",
    "            if line.startswith('dimension'):\n",
    "                coordinates = [(0,0)] * int(line.split()[-1])\n",
    "            tokens = line.split()\n",
    "            if len(tokens) == 3 and tokens[0].isdecimal():\n",
    "                tokens = line.split()\n",
    "                coordinates[int(tokens[0])-1] = tuple(map(float, tokens[1:]))\n",
    "        return coordinates\n",
    "\n",
    "def euclidean_distance(point1, point2):\n",
    "    return sqrt((point1[0]-point2[0]) ** 2 + (point1[1]-point2[1]) ** 2)\n",
    "    \n",
    "def calculate_tour_length(instance, permutation):\n",
    "    n = len(permutation)\n",
    "    return sum(euclidean_distance(instance[permutation[i]], \n",
    "                                  instance[permutation[(i+1) % n]]) for i in range(len(permutation)))"
   ]
  },
  {
   "cell_type": "code",
   "execution_count": 9,
   "metadata": {
    "collapsed": false,
    "deletable": true,
    "editable": true
   },
   "outputs": [],
   "source": [
    "def solve_tsp_nearest_neighbour(instance):\n",
    "    start = 0\n",
    "    INF = 10**9 + 7\n",
    "    n = len(instance)\n",
    "    ans = [start]\n",
    "    used = [False] * n\n",
    "    used[start] = True\n",
    "    for i in range(n - 1):\n",
    "        index = -1\n",
    "        min_dist = INF\n",
    "        for j in range(n):\n",
    "            if not used[j]:\n",
    "                d = euclidean_distance(instance[ans[i]], instance[j])\n",
    "                if d < min_dist:\n",
    "                    min_dist = d\n",
    "                    index = j\n",
    "        ans.append(index)\n",
    "        used[index] = True\n",
    "    return ans"
   ]
  },
  {
   "cell_type": "code",
   "execution_count": 26,
   "metadata": {
    "collapsed": false,
    "deletable": true,
    "editable": true
   },
   "outputs": [],
   "source": [
    "def solve_tsp_nearest_insertion(instance):\n",
    "    def weight(i, j):\n",
    "        return euclidean_distance(instance[i], instance[j])\n",
    "    n = len(instance)\n",
    "    ans = [0]\n",
    "    used = [False] * n\n",
    "    used[0] = True\n",
    "    dst = [weight(0, i) for i in range(1, n)]\n",
    "    ans.append(dst.index(min(dst)) + 1)\n",
    "    used[ans[1]] = True\n",
    "    a = list(range(1, n))\n",
    "    not_in_ans = a[:ans[1] - 1] + a[ans[1]:]\n",
    "    for i in range(n - 2):\n",
    "        k = len(ans)\n",
    "        m = n - len(ans)\n",
    "        X = np.array([list(instance[i]) for i in ans]).T\n",
    "        Y = np.array([list(instance[i]) for i in not_in_ans]).T\n",
    "        X1 = np.tile(X, m).reshape((2, m, k))\n",
    "        X1 = np.array([x.T for x in X1])\n",
    "        Y1 = np.tile(Y, k).reshape((2, k, m))\n",
    "        D = np.sqrt((X1[0] - Y1[0]) ** 2 + (X1[1] - Y1[1]) ** 2)\n",
    "        dist_v_u1_v_u2 = D + np.roll(D, 1, axis=0)\n",
    "        neigh_dist_in_ans = np.array([weight(ans[i - 1], ans[i]) for i in range(k)])\n",
    "        M = dist_v_u1_v_u2.T - neigh_dist_in_ans\n",
    "        p = np.argmin(dist_v_u1_v_u2.T - neigh_dist_in_ans)\n",
    "        min_delta = np.min(dist_v_u1_v_u2.T - neigh_dist_in_ans)\n",
    "        v = not_in_ans[p // k]\n",
    "        u1 = ans[p % k - 1]\n",
    "        u2 = ans[p % k]\n",
    "        if i == 0:\n",
    "            for j in range(k):\n",
    "                for t in range(m):\n",
    "                    cur_d = weight(ans[j], not_in_ans[t]) + weight(ans[j - 1],\n",
    "                                                                   not_in_ans[t]) - weight(ans[j - 1], ans[j])\n",
    "        ans = ans[:p % k] + [v] + ans[p % k:]\n",
    "        not_in_ans = not_in_ans[:p // k] + not_in_ans[p // k + 1:]\n",
    "    return ans"
   ]
  },
  {
   "cell_type": "code",
   "execution_count": 21,
   "metadata": {
    "collapsed": false,
    "deletable": true,
    "editable": true
   },
   "outputs": [],
   "source": [
    "def run_all():\n",
    "    instance_filenames = ['d198.tsp', 'd493.tsp', 'd657.tsp', 'd2103.tsp', 'pr107.tsp', 'pr152.tsp', 'pr439.tsp']\n",
    "    for filename in instance_filenames:\n",
    "        if not exists(filename):\n",
    "            print('File not found: “{}”. Skipping this instance.'.format(filename))\n",
    "            continue\n",
    "        instance = read_tsp_instance(filename)\n",
    "        print('Solving instance {}…'.format(filename), end='')\n",
    "        time_start = time.monotonic()\n",
    "        quality_nn = calculate_tour_length(instance, solve_tsp_nearest_neighbour(instance))\n",
    "        time_nn = time.monotonic()-time_start\n",
    "        time_start = time.monotonic()\n",
    "        quality_ni = calculate_tour_length(instance, solve_tsp_nearest_insertion(instance))\n",
    "        time_ni = time.monotonic()-time_start\n",
    "        print('''done in {:.2} seconds with tour length {} using NN and in {:.2} seconds with tour \n",
    "                 length {} using NI'''.format(time_nn, int(quality_nn), time_ni, int(quality_ni)))"
   ]
  },
  {
   "cell_type": "code",
   "execution_count": 24,
   "metadata": {
    "collapsed": false,
    "deletable": true,
    "editable": true
   },
   "outputs": [
    {
     "name": "stdout",
     "output_type": "stream",
     "text": [
      "Solving instance d198.tsp…done in 0.045 seconds with tour length 18620 using NN and in 0.17 seconds with tour \n",
      "                 length 17631 using NI\n",
      "Solving instance d493.tsp…done in 0.17 seconds with tour length 43646 using NN and in 1.4 seconds with tour \n",
      "                 length 39982 using NI\n",
      "Solving instance d657.tsp…done in 0.29 seconds with tour length 62176 using NN and in 3.0 seconds with tour \n",
      "                 length 57906 using NI\n",
      "Solving instance d2103.tsp…done in 3.0 seconds with tour length 87468 using NN and in 1.1e+02 seconds with tour \n",
      "                 length 87530 using NI\n",
      "Solving instance pr107.tsp…done in 0.0081 seconds with tour length 46678 using NN and in 0.047 seconds with tour \n",
      "                 length 51667 using NI\n",
      "Solving instance pr152.tsp…done in 0.015 seconds with tour length 85702 using NN and in 0.087 seconds with tour \n",
      "                 length 88530 using NI\n",
      "Solving instance pr439.tsp…done in 0.13 seconds with tour length 131282 using NN and in 0.95 seconds with tour \n",
      "                 length 130067 using NI\n"
     ]
    }
   ],
   "source": [
    "run_all()"
   ]
  },
  {
   "cell_type": "markdown",
   "metadata": {
    "collapsed": true,
    "deletable": true,
    "editable": true
   },
   "source": [
    "** Выводы **\n",
    "\n",
    "NI дает результаты чуть лучше, но не всегда, видно, что иногда NN лучше. Также NI работает на порядок дольше, что очевидно из ассимптотики."
   ]
  }
 ],
 "metadata": {
  "kernelspec": {
   "display_name": "Python 3",
   "language": "python",
   "name": "python3"
  },
  "language_info": {
   "codemirror_mode": {
    "name": "ipython",
    "version": 3
   },
   "file_extension": ".py",
   "mimetype": "text/x-python",
   "name": "python",
   "nbconvert_exporter": "python",
   "pygments_lexer": "ipython3",
   "version": "3.6.0"
  }
 },
 "nbformat": 4,
 "nbformat_minor": 2
}
