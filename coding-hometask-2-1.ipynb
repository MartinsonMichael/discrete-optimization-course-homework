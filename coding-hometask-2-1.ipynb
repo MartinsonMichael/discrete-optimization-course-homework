{
 "cells": [
  {
   "cell_type": "markdown",
   "metadata": {},
   "source": [
    "# Задание по курсу «Дискретная оптимизация», МФТИ, весна 2017"
   ]
  },
  {
   "cell_type": "markdown",
   "metadata": {},
   "source": [
    "## Задача 2-1. Применяем простейший локальный поиск.\n",
    "\n",
    "В этой задаче Вам предлагается попробовать стандартную технику локального поиска (local search) в применении к задаче о сбалансированном разбиении графа. Мы будем рассматривать безвесовый вариант задачи с параметром балансировки $\\alpha=\\frac{1}{2}$:\n",
    "\n",
    "**Даны:**\n",
    "* $G=(V,E)$ — граф без весов на рёбрах\n",
    "\n",
    "**Найти:**\n",
    "* Разбиение $V=V'\\sqcup V''$, такое, что $V'=\\lfloor |V|/2 \\rfloor$ и число рёбер между $V'$ и $V''$ минимально возможное.\n",
    "\n",
    "Сделайте следующее:\n",
    "* [Скачайте](http://mat.gsia.cmu.edu/COLOR/instances.html#XXMYC) файлы mycielX.col  (`for X in range(1,8)`).  (Если интересно, откуда такие графы берутся и чем интересны, см. конструкцию Зыкова—Мыцельского [здесь](https://docs.com/dainiak/3327).)\n",
    "* Для каждого из графов найдите локальным поиском локально минимальное (по количеству рёбер между частями) разбиение вершин графа на две части, мощности которых отличаются не более чем на единицу. \n",
    "* Ваша функция `basic_local_search` должна принимать на вход граф в формате, предоставляемом функцией `read_col_file`, и возвращать найденное локально минимальное разбиение просто как множество либо список вершин, лежащих в одной любой из двух компонент разбиения."
   ]
  },
  {
   "cell_type": "code",
   "execution_count": 199,
   "metadata": {
    "collapsed": true
   },
   "outputs": [],
   "source": [
    "import random\n",
    "from itertools import permutations\n",
    "from copy import copy\n",
    "import numpy as np\n",
    "from tqdm import tqdm"
   ]
  },
  {
   "cell_type": "code",
   "execution_count": 74,
   "metadata": {
    "collapsed": true
   },
   "outputs": [],
   "source": [
    "def read_col_file(filename):\n",
    "    with open(filename, 'r') as file:\n",
    "        vertices, edges = set(), set()\n",
    "        for line in file:\n",
    "            line = line.strip()\n",
    "            if line.startswith('p'):\n",
    "                vertices = set(range(1, int(line.split()[-2]) + 1))\n",
    "            elif line.startswith('e'):\n",
    "                edges.add(tuple(map(int, line.split()[-2:])))\n",
    "        return (vertices, edges)"
   ]
  },
  {
   "cell_type": "code",
   "execution_count": 202,
   "metadata": {
    "collapsed": false
   },
   "outputs": [],
   "source": [
    "def getCutCapacity(graph, cut):\n",
    "    ans = 0\n",
    "    for edge in graph[1]:\n",
    "        if edge[0] in cut[0] and edge[1] in cut[1]:\n",
    "            ans += 1\n",
    "            continue\n",
    "        if edge[1] in cut[0] and edge[0] in cut[1]:\n",
    "            ans += 1\n",
    "            continue\n",
    "    return ans\n",
    "\n",
    "def getRandomCut(graph, alpha):\n",
    "    cut = (set(graph[0]), set())\n",
    "    while len(cut[0]) / len(graph[0]) > alpha:\n",
    "        vertex = random.sample(cut[0], 1)[0]\n",
    "        cut[0].remove(vertex)\n",
    "        cut[1].add(vertex)\n",
    "    return cut\n",
    "\n",
    "def getBestInKLocal(graph, cut, k):\n",
    "    test = copy(cut)\n",
    "    best = copy(cut)\n",
    "    best_score = getCutCapacity(graph, cut)\n",
    "    for first in permutations(cut[0], k):\n",
    "        for second in permutations(cut[1], k):\n",
    "            fs = set(first) | set(second)\n",
    "            for i in permutations(fs, k):\n",
    "                fadd = set(i)\n",
    "                frem = copy(fs).difference(fadd)\n",
    "                test[0].union(fadd).difference(frem)\n",
    "                test[1].union(frem).difference(fadd)\n",
    "                now_score = getCutCapacity(graph, test)\n",
    "                if now_score <= best_score:\n",
    "                    best_score = now_score\n",
    "                    best = copy(test)\n",
    "    return best"
   ]
  },
  {
   "cell_type": "code",
   "execution_count": 203,
   "metadata": {
    "collapsed": true
   },
   "outputs": [],
   "source": [
    "def basic_local_search(graph, k):\n",
    "    cut = getRandomCut(graph, 0.5)\n",
    "    now = getCutCapacity(graph, cut)\n",
    "    while True:\n",
    "        cut = getBestInKLocal(graph, cut, k)\n",
    "        new_score = getCutCapacity(graph, cut)\n",
    "        if new_score >= now:\n",
    "            break\n",
    "        now = new_score\n",
    "    return cut"
   ]
  },
  {
   "cell_type": "markdown",
   "metadata": {},
   "source": [
    "К сожалению удалось найти не все файлы графов, на указанном сайте есть только с 3 по 7."
   ]
  },
  {
   "cell_type": "code",
   "execution_count": 212,
   "metadata": {
    "collapsed": false
   },
   "outputs": [],
   "source": [
    "def operateGraphs(k):\n",
    "    for i in range(3, 8):\n",
    "        name = 'myciel' + str(i) + '.col'\n",
    "        g = read_col_file(name)\n",
    "        cut = basic_local_search(g, k)\n",
    "        print('answer for',name, 'with', k, 'local search :')\n",
    "        print(getCutCapacity(g, cut), cut)\n",
    "        print()"
   ]
  },
  {
   "cell_type": "code",
   "execution_count": 213,
   "metadata": {
    "collapsed": false
   },
   "outputs": [
    {
     "name": "stdout",
     "output_type": "stream",
     "text": [
      "answer for myciel3.col with 1 local search :\n",
      "11 ({1, 4, 7, 8, 9}, {2, 3, 5, 6, 10, 11})\n",
      "\n",
      "answer for myciel4.col with 1 local search :\n",
      "33 ({3, 7, 8, 10, 11, 13, 14, 15, 20, 21, 22}, {1, 2, 4, 5, 6, 9, 12, 16, 17, 18, 19, 23})\n",
      "\n",
      "answer for myciel5.col with 1 local search :\n",
      "122 ({3, 4, 5, 6, 12, 14, 16, 19, 20, 21, 24, 26, 27, 29, 30, 31, 32, 33, 35, 36, 37, 39, 46}, {1, 2, 7, 8, 9, 10, 11, 13, 15, 17, 18, 22, 23, 25, 28, 34, 38, 40, 41, 42, 43, 44, 45, 47})\n",
      "\n",
      "answer for myciel6.col with 1 local search :\n",
      "395 ({2, 3, 4, 6, 7, 8, 9, 15, 19, 22, 23, 25, 26, 27, 30, 31, 33, 34, 35, 37, 38, 40, 43, 44, 48, 52, 54, 58, 60, 62, 63, 65, 67, 68, 69, 70, 71, 72, 73, 74, 76, 79, 81, 82, 87, 90, 92}, {1, 5, 10, 11, 12, 13, 14, 16, 17, 18, 20, 21, 24, 28, 29, 32, 36, 39, 41, 42, 45, 46, 47, 49, 50, 51, 53, 55, 56, 57, 59, 61, 64, 66, 75, 77, 78, 80, 83, 84, 85, 86, 88, 89, 91, 93, 94, 95})\n",
      "\n",
      "answer for myciel7.col with 1 local search :\n",
      "1162 ({1, 3, 4, 6, 7, 8, 9, 12, 13, 14, 17, 18, 19, 21, 24, 26, 27, 32, 33, 34, 35, 36, 38, 40, 43, 48, 49, 51, 52, 55, 58, 59, 60, 61, 62, 63, 71, 72, 73, 75, 78, 83, 85, 87, 91, 93, 95, 101, 103, 105, 107, 108, 110, 113, 114, 116, 123, 124, 125, 127, 128, 129, 131, 132, 136, 137, 142, 143, 144, 145, 148, 149, 153, 155, 156, 158, 159, 160, 164, 165, 166, 168, 169, 171, 172, 173, 177, 178, 179, 180, 182, 185, 187, 188, 189}, {2, 5, 10, 11, 15, 16, 20, 22, 23, 25, 28, 29, 30, 31, 37, 39, 41, 42, 44, 45, 46, 47, 50, 53, 54, 56, 57, 64, 65, 66, 67, 68, 69, 70, 74, 76, 77, 79, 80, 81, 82, 84, 86, 88, 89, 90, 92, 94, 96, 97, 98, 99, 100, 102, 104, 106, 109, 111, 112, 115, 117, 118, 119, 120, 121, 122, 126, 130, 133, 134, 135, 138, 139, 140, 141, 146, 147, 150, 151, 152, 154, 157, 161, 162, 163, 167, 170, 174, 175, 176, 181, 183, 184, 186, 190, 191})\n",
      "\n"
     ]
    }
   ],
   "source": [
    "operateGraphs(1)"
   ]
  },
  {
   "cell_type": "markdown",
   "metadata": {},
   "source": [
    "Локальный 2 поиск был запущен на час, но не успел завершиться"
   ]
  },
  {
   "cell_type": "code",
   "execution_count": 214,
   "metadata": {
    "collapsed": false
   },
   "outputs": [
    {
     "name": "stdout",
     "output_type": "stream",
     "text": [
      "answer for myciel3.col with 2 local search :\n",
      "10 ({2, 4, 5, 6, 9}, {1, 3, 7, 8, 10, 11})\n",
      "\n",
      "answer for myciel4.col with 2 local search :\n",
      "44 ({1, 3, 6, 7, 8, 9, 10, 11, 13, 19, 23}, {2, 4, 5, 12, 14, 15, 16, 17, 18, 20, 21, 22})\n",
      "\n",
      "answer for myciel5.col with 2 local search :\n",
      "113 ({1, 2, 3, 4, 9, 10, 16, 17, 18, 22, 23, 25, 27, 32, 33, 35, 38, 39, 41, 42, 44, 45, 47}, {5, 6, 7, 8, 11, 12, 13, 14, 15, 19, 20, 21, 24, 26, 28, 29, 30, 31, 34, 36, 37, 40, 43, 46})\n",
      "\n"
     ]
    },
    {
     "ename": "KeyboardInterrupt",
     "evalue": "",
     "output_type": "error",
     "traceback": [
      "\u001b[0;31m---------------------------------------------------------------------------\u001b[0m",
      "\u001b[0;31mKeyboardInterrupt\u001b[0m                         Traceback (most recent call last)",
      "\u001b[0;32m<ipython-input-214-0ad596360d6d>\u001b[0m in \u001b[0;36m<module>\u001b[0;34m()\u001b[0m\n\u001b[0;32m----> 1\u001b[0;31m \u001b[0moperateGraphs\u001b[0m\u001b[0;34m(\u001b[0m\u001b[0;36m2\u001b[0m\u001b[0;34m)\u001b[0m\u001b[0;34m\u001b[0m\u001b[0m\n\u001b[0m",
      "\u001b[0;32m<ipython-input-212-4eb14ba0f3a4>\u001b[0m in \u001b[0;36moperateGraphs\u001b[0;34m(k)\u001b[0m\n\u001b[1;32m      3\u001b[0m         \u001b[0mname\u001b[0m \u001b[0;34m=\u001b[0m \u001b[0;34m'myciel'\u001b[0m \u001b[0;34m+\u001b[0m \u001b[0mstr\u001b[0m\u001b[0;34m(\u001b[0m\u001b[0mi\u001b[0m\u001b[0;34m)\u001b[0m \u001b[0;34m+\u001b[0m \u001b[0;34m'.col'\u001b[0m\u001b[0;34m\u001b[0m\u001b[0m\n\u001b[1;32m      4\u001b[0m         \u001b[0mg\u001b[0m \u001b[0;34m=\u001b[0m \u001b[0mread_col_file\u001b[0m\u001b[0;34m(\u001b[0m\u001b[0mname\u001b[0m\u001b[0;34m)\u001b[0m\u001b[0;34m\u001b[0m\u001b[0m\n\u001b[0;32m----> 5\u001b[0;31m         \u001b[0mcut\u001b[0m \u001b[0;34m=\u001b[0m \u001b[0mbasic_local_search\u001b[0m\u001b[0;34m(\u001b[0m\u001b[0mg\u001b[0m\u001b[0;34m,\u001b[0m \u001b[0mk\u001b[0m\u001b[0;34m)\u001b[0m\u001b[0;34m\u001b[0m\u001b[0m\n\u001b[0m\u001b[1;32m      6\u001b[0m         \u001b[0mprint\u001b[0m\u001b[0;34m(\u001b[0m\u001b[0;34m'answer for'\u001b[0m\u001b[0;34m,\u001b[0m\u001b[0mname\u001b[0m\u001b[0;34m,\u001b[0m \u001b[0;34m'with'\u001b[0m\u001b[0;34m,\u001b[0m \u001b[0mk\u001b[0m\u001b[0;34m,\u001b[0m \u001b[0;34m'local search :'\u001b[0m\u001b[0;34m)\u001b[0m\u001b[0;34m\u001b[0m\u001b[0m\n\u001b[1;32m      7\u001b[0m         \u001b[0mprint\u001b[0m\u001b[0;34m(\u001b[0m\u001b[0mgetCutCapacity\u001b[0m\u001b[0;34m(\u001b[0m\u001b[0mg\u001b[0m\u001b[0;34m,\u001b[0m \u001b[0mcut\u001b[0m\u001b[0;34m)\u001b[0m\u001b[0;34m,\u001b[0m \u001b[0mcut\u001b[0m\u001b[0;34m)\u001b[0m\u001b[0;34m\u001b[0m\u001b[0m\n",
      "\u001b[0;32m<ipython-input-203-4ee4602e7fae>\u001b[0m in \u001b[0;36mbasic_local_search\u001b[0;34m(graph, k)\u001b[0m\n\u001b[1;32m      3\u001b[0m     \u001b[0mnow\u001b[0m \u001b[0;34m=\u001b[0m \u001b[0mgetCutCapacity\u001b[0m\u001b[0;34m(\u001b[0m\u001b[0mgraph\u001b[0m\u001b[0;34m,\u001b[0m \u001b[0mcut\u001b[0m\u001b[0;34m)\u001b[0m\u001b[0;34m\u001b[0m\u001b[0m\n\u001b[1;32m      4\u001b[0m     \u001b[0;32mwhile\u001b[0m \u001b[0;32mTrue\u001b[0m\u001b[0;34m:\u001b[0m\u001b[0;34m\u001b[0m\u001b[0m\n\u001b[0;32m----> 5\u001b[0;31m         \u001b[0mcut\u001b[0m \u001b[0;34m=\u001b[0m \u001b[0mgetBestInKLocal\u001b[0m\u001b[0;34m(\u001b[0m\u001b[0mgraph\u001b[0m\u001b[0;34m,\u001b[0m \u001b[0mcut\u001b[0m\u001b[0;34m,\u001b[0m \u001b[0mk\u001b[0m\u001b[0;34m)\u001b[0m\u001b[0;34m\u001b[0m\u001b[0m\n\u001b[0m\u001b[1;32m      6\u001b[0m         \u001b[0mnew_score\u001b[0m \u001b[0;34m=\u001b[0m \u001b[0mgetCutCapacity\u001b[0m\u001b[0;34m(\u001b[0m\u001b[0mgraph\u001b[0m\u001b[0;34m,\u001b[0m \u001b[0mcut\u001b[0m\u001b[0;34m)\u001b[0m\u001b[0;34m\u001b[0m\u001b[0m\n\u001b[1;32m      7\u001b[0m         \u001b[0;32mif\u001b[0m \u001b[0mnew_score\u001b[0m \u001b[0;34m>=\u001b[0m \u001b[0mnow\u001b[0m\u001b[0;34m:\u001b[0m\u001b[0;34m\u001b[0m\u001b[0m\n",
      "\u001b[0;32m<ipython-input-202-98ecd630d469>\u001b[0m in \u001b[0;36mgetBestInKLocal\u001b[0;34m(graph, cut, k)\u001b[0m\n\u001b[1;32m     30\u001b[0m                 \u001b[0mtest\u001b[0m\u001b[0;34m[\u001b[0m\u001b[0;36m0\u001b[0m\u001b[0;34m]\u001b[0m\u001b[0;34m.\u001b[0m\u001b[0munion\u001b[0m\u001b[0;34m(\u001b[0m\u001b[0mfadd\u001b[0m\u001b[0;34m)\u001b[0m\u001b[0;34m.\u001b[0m\u001b[0mdifference\u001b[0m\u001b[0;34m(\u001b[0m\u001b[0mfrem\u001b[0m\u001b[0;34m)\u001b[0m\u001b[0;34m\u001b[0m\u001b[0m\n\u001b[1;32m     31\u001b[0m                 \u001b[0mtest\u001b[0m\u001b[0;34m[\u001b[0m\u001b[0;36m1\u001b[0m\u001b[0;34m]\u001b[0m\u001b[0;34m.\u001b[0m\u001b[0munion\u001b[0m\u001b[0;34m(\u001b[0m\u001b[0mfrem\u001b[0m\u001b[0;34m)\u001b[0m\u001b[0;34m.\u001b[0m\u001b[0mdifference\u001b[0m\u001b[0;34m(\u001b[0m\u001b[0mfadd\u001b[0m\u001b[0;34m)\u001b[0m\u001b[0;34m\u001b[0m\u001b[0m\n\u001b[0;32m---> 32\u001b[0;31m                 \u001b[0mnow_score\u001b[0m \u001b[0;34m=\u001b[0m \u001b[0mgetCutCapacity\u001b[0m\u001b[0;34m(\u001b[0m\u001b[0mgraph\u001b[0m\u001b[0;34m,\u001b[0m \u001b[0mtest\u001b[0m\u001b[0;34m)\u001b[0m\u001b[0;34m\u001b[0m\u001b[0m\n\u001b[0m\u001b[1;32m     33\u001b[0m                 \u001b[0;32mif\u001b[0m \u001b[0mnow_score\u001b[0m \u001b[0;34m<=\u001b[0m \u001b[0mbest_score\u001b[0m\u001b[0;34m:\u001b[0m\u001b[0;34m\u001b[0m\u001b[0m\n\u001b[1;32m     34\u001b[0m                     \u001b[0mbest_score\u001b[0m \u001b[0;34m=\u001b[0m \u001b[0mnow_score\u001b[0m\u001b[0;34m\u001b[0m\u001b[0m\n",
      "\u001b[0;32m<ipython-input-202-98ecd630d469>\u001b[0m in \u001b[0;36mgetCutCapacity\u001b[0;34m(graph, cut)\u001b[0m\n\u001b[1;32m      5\u001b[0m             \u001b[0mans\u001b[0m \u001b[0;34m+=\u001b[0m \u001b[0;36m1\u001b[0m\u001b[0;34m\u001b[0m\u001b[0m\n\u001b[1;32m      6\u001b[0m             \u001b[0;32mcontinue\u001b[0m\u001b[0;34m\u001b[0m\u001b[0m\n\u001b[0;32m----> 7\u001b[0;31m         \u001b[0;32mif\u001b[0m \u001b[0medge\u001b[0m\u001b[0;34m[\u001b[0m\u001b[0;36m1\u001b[0m\u001b[0;34m]\u001b[0m \u001b[0;32min\u001b[0m \u001b[0mcut\u001b[0m\u001b[0;34m[\u001b[0m\u001b[0;36m0\u001b[0m\u001b[0;34m]\u001b[0m \u001b[0;32mand\u001b[0m \u001b[0medge\u001b[0m\u001b[0;34m[\u001b[0m\u001b[0;36m0\u001b[0m\u001b[0;34m]\u001b[0m \u001b[0;32min\u001b[0m \u001b[0mcut\u001b[0m\u001b[0;34m[\u001b[0m\u001b[0;36m1\u001b[0m\u001b[0;34m]\u001b[0m\u001b[0;34m:\u001b[0m\u001b[0;34m\u001b[0m\u001b[0m\n\u001b[0m\u001b[1;32m      8\u001b[0m             \u001b[0mans\u001b[0m \u001b[0;34m+=\u001b[0m \u001b[0;36m1\u001b[0m\u001b[0;34m\u001b[0m\u001b[0m\n\u001b[1;32m      9\u001b[0m             \u001b[0;32mcontinue\u001b[0m\u001b[0;34m\u001b[0m\u001b[0m\n",
      "\u001b[0;31mKeyboardInterrupt\u001b[0m: "
     ]
    }
   ],
   "source": [
    "operateGraphs(2)"
   ]
  },
  {
   "cell_type": "markdown",
   "metadata": {},
   "source": [
    "Немного статистики на примере 'myciel3.col'. Сравнение 1, 2 и 3 локального поиска."
   ]
  },
  {
   "cell_type": "code",
   "execution_count": 218,
   "metadata": {
    "collapsed": false
   },
   "outputs": [
    {
     "name": "stderr",
     "output_type": "stream",
     "text": [
      "100%|██████████| 30/30 [00:00<00:00, 411.77it/s]\n",
      "100%|██████████| 30/30 [00:03<00:00,  8.10it/s]\n",
      "100%|██████████| 30/30 [07:11<00:00, 14.25s/it]"
     ]
    },
    {
     "name": "stdout",
     "output_type": "stream",
     "text": [
      "Полученные оценки\n",
      "[[ 10.  11.  11.  10.  11.   9.  12.   8.  15.  12.  10.  14.  12.   9.\n",
      "    9.  16.   9.  13.   8.  11.  11.  13.  13.  15.  14.  16.   9.  11.\n",
      "   16.   8.]\n",
      " [ 13.  10.   9.  12.  12.   9.   9.  10.  12.  11.  11.  15.  10.   9.\n",
      "   13.  11.  13.  12.  10.  10.  13.  11.  14.   9.   9.   9.   8.   8.\n",
      "    8.  15.]\n",
      " [  8.  14.  11.  11.  16.  11.  10.  11.  10.  10.  12.  13.   9.   8.\n",
      "   10.  10.   9.  10.  10.  15.  13.   9.  12.  14.   9.  12.   8.   9.\n",
      "   16.  11.]]\n",
      "Среднее\n",
      "[ 11.53333333  10.83333333  11.03333333]\n"
     ]
    },
    {
     "name": "stderr",
     "output_type": "stream",
     "text": [
      "\n"
     ]
    }
   ],
   "source": [
    "g = read_col_file('myciel3.col')\n",
    "stat = np.zeros((3, 30))\n",
    "for i, k in enumerate([1, 2, 3]):\n",
    "    for j in tqdm(range(stat.shape[1])):\n",
    "        cut = basic_local_search(g, k)\n",
    "        stat[i][j] = (getCutCapacity(g, cut))\n",
    "        \n",
    "print('Полученные оценки')\n",
    "print(stat)\n",
    "print('Среднее')\n",
    "print(stat.mean(axis=1))"
   ]
  },
  {
   "cell_type": "markdown",
   "metadata": {
    "collapsed": true
   },
   "source": [
    "Учитывая, что локальный 3 поиск работает раз в 400 дольше чем 2 поиск, а его результаты даже хуже, кажется, что в этой задаче он бесполезен."
   ]
  }
 ],
 "metadata": {
  "kernelspec": {
   "display_name": "Python 3",
   "language": "python",
   "name": "python3"
  },
  "language_info": {
   "codemirror_mode": {
    "name": "ipython",
    "version": 3
   },
   "file_extension": ".py",
   "mimetype": "text/x-python",
   "name": "python",
   "nbconvert_exporter": "python",
   "pygments_lexer": "ipython3",
   "version": "3.6.0"
  }
 },
 "nbformat": 4,
 "nbformat_minor": 2
}
